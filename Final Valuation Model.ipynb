{
 "cells": [
  {
   "cell_type": "code",
   "execution_count": 1,
   "metadata": {},
   "outputs": [
    {
     "name": "stderr",
     "output_type": "stream",
     "text": [
      "C:\\Users\\Thao\\Anaconda3\\lib\\site-packages\\statsmodels\\compat\\pandas.py:49: FutureWarning: The Panel class is removed from pandas. Accessing it from the top-level namespace will also be removed in the next version\n",
      "  data_klasses = (pandas.Series, pandas.DataFrame, pandas.Panel)\n"
     ]
    }
   ],
   "source": [
    "import pandas as pd\n",
    "import numpy as np\n",
    "import matplotlib.pyplot as plt\n",
    "import statsmodels.api as sm\n",
    "from datetime import date\n",
    "from scipy import stats\n",
    "from statsmodels import regression\n",
    "import seaborn as sns"
   ]
  },
  {
   "cell_type": "code",
   "execution_count": 2,
   "metadata": {},
   "outputs": [],
   "source": [
    "from fredapi import Fred\n",
    "fred = Fred(api_key='57930a1d3dfc065aee60017aed26075c')\n",
    "data_sp500 = fred.get_series('SP500')"
   ]
  },
  {
   "cell_type": "code",
   "execution_count": 3,
   "metadata": {},
   "outputs": [],
   "source": [
    "import simfin as sf\n",
    "from simfin.names import *\n",
    "sf.set_api_key('free')\n",
    "sf.set_data_dir('~/simfin_data/')"
   ]
  },
  {
   "cell_type": "code",
   "execution_count": 4,
   "metadata": {},
   "outputs": [],
   "source": [
    "years = ['Base Year', 'Year 1', 'Year 2', 'Year 3', 'Year 4', 'Year 5', 'Year 6', 'Year 7', 'Year 8', 'Year 9', 'Year 10', 'Terminal Year']"
   ]
  },
  {
   "cell_type": "code",
   "execution_count": 5,
   "metadata": {},
   "outputs": [],
   "source": [
    "Revenue_Growth_Rates = pd.Series(index=years,dtype=float)\n",
    "Revenue = pd.Series(index=years,dtype=float)\n",
    "Operating_Margin = pd.Series(index=years,dtype=float)\n",
    "Operating_Income = pd.Series(index=years,dtype=float)\n",
    "Tax_Rate = pd.Series(index=years,dtype=float)\n",
    "After_Tax_Operating_Income = pd.Series(index=years,dtype=float)\n",
    "Reinvestment = pd.Series(index=years,dtype=float)\n",
    "FCFF = pd.Series(index=years,dtype=float)\n",
    "Cost_of_Capital = pd.Series(index=years,dtype=float)\n",
    "Cumulated_Discount_Factor = pd.Series(index=years,dtype=float)\n",
    "PV_of_FCFF= pd.Series(index=years,dtype=float)"
   ]
  },
  {
   "cell_type": "code",
   "execution_count": 6,
   "metadata": {},
   "outputs": [],
   "source": [
    "#Collecting Server Data"
   ]
  },
  {
   "cell_type": "code",
   "execution_count": 7,
   "metadata": {},
   "outputs": [
    {
     "name": "stdout",
     "output_type": "stream",
     "text": [
      "Dataset \"us-income-annual\" on disk (14 days old).\n",
      "- Loading from disk ... Done!\n"
     ]
    }
   ],
   "source": [
    "df_income = sf.load_income(variant='annual', market='us')"
   ]
  },
  {
   "cell_type": "code",
   "execution_count": 8,
   "metadata": {},
   "outputs": [
    {
     "name": "stdout",
     "output_type": "stream",
     "text": [
      "Dataset \"us-balance-annual\" on disk (14 days old).\n",
      "- Loading from disk ... Done!\n"
     ]
    }
   ],
   "source": [
    "df_balance=sf.load_balance(variant='annual', market='us')"
   ]
  },
  {
   "cell_type": "code",
   "execution_count": 9,
   "metadata": {},
   "outputs": [
    {
     "name": "stdout",
     "output_type": "stream",
     "text": [
      "Dataset \"us-shareprices-daily\" on disk (8 days old).\n",
      "- Loading from disk ... Done!\n"
     ]
    }
   ],
   "source": [
    "df_prices = sf.load_shareprices(variant='daily', market='us')"
   ]
  },
  {
   "cell_type": "code",
   "execution_count": 10,
   "metadata": {},
   "outputs": [
    {
     "name": "stdout",
     "output_type": "stream",
     "text": [
      "Dataset \"us-income-ttm\" on disk (4 days old).\n",
      "- Loading from disk ... Done!\n"
     ]
    }
   ],
   "source": [
    "df_income_ttm = sf.load_income(variant='ttm', market='us')"
   ]
  },
  {
   "cell_type": "code",
   "execution_count": 11,
   "metadata": {},
   "outputs": [
    {
     "name": "stdout",
     "output_type": "stream",
     "text": [
      "Dataset \"us-balance-ttm\" on disk (14 days old).\n",
      "- Loading from disk ... Done!\n"
     ]
    }
   ],
   "source": [
    "df_balance_ttm=sf.load_balance(variant='ttm', market='us')"
   ]
  },
  {
   "cell_type": "code",
   "execution_count": 12,
   "metadata": {},
   "outputs": [],
   "source": [
    "sp500 = data_sp500.loc['2015-05-14':'2019-05-06']"
   ]
  },
  {
   "cell_type": "code",
   "execution_count": 13,
   "metadata": {},
   "outputs": [],
   "source": [
    "df2 = df_income.groupby(TICKER)[[REVENUE, NET_INCOME]].mean()"
   ]
  },
  {
   "cell_type": "code",
   "execution_count": 14,
   "metadata": {},
   "outputs": [],
   "source": [
    "stock_list = list(df2.index.values)"
   ]
  },
  {
   "cell_type": "code",
   "execution_count": 15,
   "metadata": {},
   "outputs": [
    {
     "name": "stderr",
     "output_type": "stream",
     "text": [
      "C:\\Users\\Thao\\Anaconda3\\lib\\site-packages\\scipy\\stats\\_stats_mstats_common.py:107: RuntimeWarning: invalid value encountered in double_scalars\n",
      "  slope = r_num / ssxm\n",
      "C:\\Users\\Thao\\Anaconda3\\lib\\site-packages\\scipy\\stats\\_stats_mstats_common.py:117: RuntimeWarning: invalid value encountered in sqrt\n",
      "  t = r * np.sqrt(df / ((1.0 - r + TINY)*(1.0 + r + TINY)))\n",
      "C:\\Users\\Thao\\Anaconda3\\lib\\site-packages\\scipy\\stats\\_distn_infrastructure.py:879: RuntimeWarning: invalid value encountered in greater\n",
      "  return (self.a < x) & (x < self.b)\n",
      "C:\\Users\\Thao\\Anaconda3\\lib\\site-packages\\scipy\\stats\\_distn_infrastructure.py:879: RuntimeWarning: invalid value encountered in less\n",
      "  return (self.a < x) & (x < self.b)\n",
      "C:\\Users\\Thao\\Anaconda3\\lib\\site-packages\\scipy\\stats\\_distn_infrastructure.py:1821: RuntimeWarning: invalid value encountered in less_equal\n",
      "  cond2 = cond0 & (x <= self.a)\n",
      "C:\\Users\\Thao\\Anaconda3\\lib\\site-packages\\scipy\\stats\\_stats_mstats_common.py:119: RuntimeWarning: invalid value encountered in double_scalars\n",
      "  sterrest = np.sqrt((1 - r**2) * ssym / ssxm / df)\n"
     ]
    }
   ],
   "source": [
    "Beta={}\n",
    "for i in stock_list:\n",
    "    try:\n",
    "        prices = df_prices.loc[i]['2015-05-14':'2019-05-06']['Adj. Close']\n",
    "        tickers_ret = prices.pct_change()[1:]\n",
    "        benchmark_ret = sp500.pct_change()[1:]\n",
    "        df1 = pd.DataFrame(tickers_ret)\n",
    "        df2 = pd.DataFrame(benchmark_ret,columns=['SPX Daily Return'])\n",
    "        data = pd.concat([df1,df2], axis=1).dropna()\n",
    "        (beta, alpha) = stats.linregress(data['SPX Daily Return'],data['Adj. Close'])[0:2]\n",
    "        Beta.update({i:beta})\n",
    "    except:\n",
    "        pass"
   ]
  },
  {
   "cell_type": "code",
   "execution_count": 16,
   "metadata": {},
   "outputs": [
    {
     "data": {
      "text/html": [
       "<div>\n",
       "<style scoped>\n",
       "    .dataframe tbody tr th:only-of-type {\n",
       "        vertical-align: middle;\n",
       "    }\n",
       "\n",
       "    .dataframe tbody tr th {\n",
       "        vertical-align: top;\n",
       "    }\n",
       "\n",
       "    .dataframe thead th {\n",
       "        text-align: right;\n",
       "    }\n",
       "</style>\n",
       "<table border=\"1\" class=\"dataframe\">\n",
       "  <thead>\n",
       "    <tr style=\"text-align: right;\">\n",
       "      <th></th>\n",
       "      <th>Beta</th>\n",
       "    </tr>\n",
       "  </thead>\n",
       "  <tbody>\n",
       "    <tr>\n",
       "      <th>count</th>\n",
       "      <td>1933.000000</td>\n",
       "    </tr>\n",
       "    <tr>\n",
       "      <th>mean</th>\n",
       "      <td>1.650688</td>\n",
       "    </tr>\n",
       "    <tr>\n",
       "      <th>std</th>\n",
       "      <td>18.231127</td>\n",
       "    </tr>\n",
       "    <tr>\n",
       "      <th>min</th>\n",
       "      <td>-15.102778</td>\n",
       "    </tr>\n",
       "    <tr>\n",
       "      <th>25%</th>\n",
       "      <td>0.719390</td>\n",
       "    </tr>\n",
       "    <tr>\n",
       "      <th>50%</th>\n",
       "      <td>0.979996</td>\n",
       "    </tr>\n",
       "    <tr>\n",
       "      <th>75%</th>\n",
       "      <td>1.221193</td>\n",
       "    </tr>\n",
       "    <tr>\n",
       "      <th>max</th>\n",
       "      <td>569.755582</td>\n",
       "    </tr>\n",
       "  </tbody>\n",
       "</table>\n",
       "</div>"
      ],
      "text/plain": [
       "              Beta\n",
       "count  1933.000000\n",
       "mean      1.650688\n",
       "std      18.231127\n",
       "min     -15.102778\n",
       "25%       0.719390\n",
       "50%       0.979996\n",
       "75%       1.221193\n",
       "max     569.755582"
      ]
     },
     "execution_count": 16,
     "metadata": {},
     "output_type": "execute_result"
    }
   ],
   "source": [
    "Beta_list=list(Beta.items())\n",
    "df_beta=pd.DataFrame(Beta_list)        \n",
    "df_beta.rename(columns={0:\"Stock\",1:\"Beta\"},inplace=True)\n",
    "df_beta.set_index('Stock',inplace=True)\n",
    "df_beta.describe()"
   ]
  },
  {
   "cell_type": "code",
   "execution_count": 17,
   "metadata": {},
   "outputs": [],
   "source": [
    "#Collecting Specific Stock Data"
   ]
  },
  {
   "cell_type": "code",
   "execution_count": 18,
   "metadata": {},
   "outputs": [],
   "source": [
    "ticker = ('FB')"
   ]
  },
  {
   "cell_type": "code",
   "execution_count": 19,
   "metadata": {},
   "outputs": [],
   "source": [
    "income = df_income.loc[ticker,[REVENUE,OPERATING_INCOME,INTEREST_EXP_NET]].fillna(0)"
   ]
  },
  {
   "cell_type": "code",
   "execution_count": 20,
   "metadata": {},
   "outputs": [],
   "source": [
    "balance = df_balance.loc[ticker, [TOTAL_EQUITY,ST_DEBT,LT_DEBT,CASH_EQUIV_ST_INVEST,SHARES_DILUTED]].fillna(0)"
   ]
  },
  {
   "cell_type": "code",
   "execution_count": 21,
   "metadata": {},
   "outputs": [],
   "source": [
    "income_ttm = df_income_ttm.loc[ticker,[REVENUE,OPERATING_INCOME,INTEREST_EXP_NET,DEPR_AMOR]].fillna(0)"
   ]
  },
  {
   "cell_type": "code",
   "execution_count": 22,
   "metadata": {},
   "outputs": [],
   "source": [
    "balance_ttm = df_balance_ttm.loc[ticker, [TOTAL_EQUITY,ST_DEBT,LT_DEBT,CASH_EQUIV_ST_INVEST,SHARES_DILUTED]].fillna(0)"
   ]
  },
  {
   "cell_type": "code",
   "execution_count": 104,
   "metadata": {},
   "outputs": [],
   "source": [
    "income_revenue_growth= (income['Revenue']/income['Revenue'].shift(1))-1\n",
    "Five_year_revenue_growth = income_revenue_growth[-5:].mean()\n",
    "Revenue_Growth_Std = income_revenue_growth.dropna().std()"
   ]
  },
  {
   "cell_type": "code",
   "execution_count": 105,
   "metadata": {},
   "outputs": [],
   "source": [
    "Operating_Margin_annual = income['Operating Income (Loss)']/income['Revenue']"
   ]
  },
  {
   "cell_type": "code",
   "execution_count": 106,
   "metadata": {},
   "outputs": [],
   "source": [
    "Average_Operating_Margin = Operating_Margin_annual.mean()\n",
    "Average_Five_Year_Operating_Margin = Operating_Margin_annual[-5:].mean()\n",
    "Operating_Margin_Std = Operating_Margin_annual.std()"
   ]
  },
  {
   "cell_type": "code",
   "execution_count": 107,
   "metadata": {},
   "outputs": [],
   "source": [
    "# List of Stocks"
   ]
  },
  {
   "cell_type": "code",
   "execution_count": 108,
   "metadata": {},
   "outputs": [],
   "source": [
    "df_list = df_income.groupby(TICKER)[[REVENUE, NET_INCOME]].mean()\n",
    "stock_list = list(df_list.index.values)"
   ]
  },
  {
   "cell_type": "code",
   "execution_count": 109,
   "metadata": {},
   "outputs": [],
   "source": [
    "#Cost of Debt"
   ]
  },
  {
   "cell_type": "code",
   "execution_count": 110,
   "metadata": {},
   "outputs": [
    {
     "data": {
      "text/plain": [
       "5"
      ]
     },
     "execution_count": 110,
     "metadata": {},
     "output_type": "execute_result"
    }
   ],
   "source": [
    "if income_ttm['Interest Expense, Net'].iloc[-1] == 0:\n",
    "    Interest_Coverage_Ratio = 5\n",
    "else:\n",
    "    Interest_Coverage_Ratio = (income_ttm['Operating Income (Loss)'].iloc[-1]+income_ttm['Depreciation & Amortization'].iloc[-1])/income_ttm['Interest Expense, Net'].iloc[-1]\n",
    "Interest_Coverage_Ratio"
   ]
  },
  {
   "cell_type": "code",
   "execution_count": 111,
   "metadata": {},
   "outputs": [],
   "source": [
    "if Interest_Coverage_Ratio >= 4.25:\n",
    "    credit_spread = 0.0108\n",
    "elif 2.5 < Interest_Coverage_Ratio < 4.25:\n",
    "    credit_spread = 0.0156\n",
    "elif 2 <= Interest_Coverage_Ratio <= 2.5:\n",
    "    credit_spread = 0.024\n",
    "elif 1.25 < Interest_Coverage_Ratio < 2:\n",
    "    credit_spread = 0.0515\n",
    "elif 0.65 < Interest_Coverage_Ratio < 1.25:\n",
    "    credit_spread = 0.0864\n",
    "else:\n",
    "    credit_spread = 0.1512"
   ]
  },
  {
   "cell_type": "code",
   "execution_count": 112,
   "metadata": {},
   "outputs": [],
   "source": [
    "# Input Data"
   ]
  },
  {
   "cell_type": "code",
   "execution_count": 169,
   "metadata": {},
   "outputs": [],
   "source": [
    "#Inputs\n",
    "Revenue['Base Year']= (income_ttm['Revenue'].iloc[-1])/1000000\n",
    "Operating_Income['Base Year'] = income_ttm['Operating Income (Loss)'].iloc[-1]/1000000\n",
    "Book_Value_of_Equity = balance_ttm['Total Equity'].iloc[-1]/1000000\n",
    "Book_Value_of_Debt = balance_ttm['Short Term Debt'].iloc[-1]+balance_ttm['Long Term Debt'].iloc[-1]/1000000\n",
    "Cash_and_Marketable_Securities = balance_ttm['Cash, Cash Equivalents & Short Term Investments'].iloc[-1]/1000000\n",
    "Number_of_Shares_Outstanding = balance_ttm['Shares (Diluted)'].iloc[-1]/1000000\n",
    "Effective_Tax_Rate = 0.25\n",
    "Operating_Lease = 0\n",
    "Sales_to_Capital_Ratio_year1_5 = 1.7\n",
    "Sales_to_Capital_Ratio_year6_10 = 1.2\n",
    "Probability_Failure = 0.1\n",
    "Distress_Proceed_as_percentage_of_book_fair_value = 0.5\n",
    "Revenue_Growth_Rates[1:6] = Five_year_revenue_growth/2\n",
    "Revenue_Growth_Rates['Terminal Year'] = 0.02\n",
    "Operating_Margin['Terminal Year'] = Average_Five_Year_Operating_Margin\n",
    "Deprication_Amortization = income_ttm['Depreciation & Amortization'].iloc[-1]/1000000"
   ]
  },
  {
   "cell_type": "code",
   "execution_count": 170,
   "metadata": {},
   "outputs": [
    {
     "data": {
      "text/plain": [
       "0.11831449269369539"
      ]
     },
     "execution_count": 170,
     "metadata": {},
     "output_type": "execute_result"
    }
   ],
   "source": [
    "#Cost of Capital\n",
    "Risk_Free_Rate = 0.0059\n",
    "Market_Return = 0.1\n",
    "Beta = df_beta.loc[ticker]\n",
    "Cost_of_Equity = Risk_Free_Rate + Beta*(Market_Return-Risk_Free_Rate)\n",
    "\n",
    "Total_Debt = Book_Value_of_Debt + Operating_Lease\n",
    "Pretax_Cost_of_Debt = Risk_Free_Rate + credit_spread\n",
    "\n",
    "Cost_of_Capital['Base Year'] = Cost_of_Equity*((Book_Value_of_Equity)/(Book_Value_of_Equity + Book_Value_of_Debt+Operating_Lease)) + Pretax_Cost_of_Debt*((Book_Value_of_Debt+Operating_Lease)/(Book_Value_of_Equity + Book_Value_of_Debt + Operating_Lease))\n",
    "Cost_of_Capital['Base Year']"
   ]
  },
  {
   "cell_type": "code",
   "execution_count": 171,
   "metadata": {},
   "outputs": [],
   "source": [
    "#Simulation Inputs\n",
    "Revenue_Growth_Mean = Five_year_revenue_growth\n",
    "Revenue_Growth_Std\n",
    "Target_Pretax_Operating_Margin_Year10_Mean = Average_Five_Year_Operating_Margin\n",
    "Target_Pretax_Operating_Margin_Year10_Std = Operating_Margin_Std \n",
    "Num_Simulations = 1000"
   ]
  },
  {
   "cell_type": "code",
   "execution_count": 172,
   "metadata": {},
   "outputs": [],
   "source": [
    "#FCFE Model"
   ]
  },
  {
   "cell_type": "code",
   "execution_count": 173,
   "metadata": {},
   "outputs": [
    {
     "data": {
      "text/html": [
       "<div>\n",
       "<style scoped>\n",
       "    .dataframe tbody tr th:only-of-type {\n",
       "        vertical-align: middle;\n",
       "    }\n",
       "\n",
       "    .dataframe tbody tr th {\n",
       "        vertical-align: top;\n",
       "    }\n",
       "\n",
       "    .dataframe thead th {\n",
       "        text-align: right;\n",
       "    }\n",
       "</style>\n",
       "<table border=\"1\" class=\"dataframe\">\n",
       "  <thead>\n",
       "    <tr style=\"text-align: right;\">\n",
       "      <th></th>\n",
       "      <th>Revenue_Growth_Rates</th>\n",
       "      <th>Revenue</th>\n",
       "      <th>Operating_Margin</th>\n",
       "      <th>Operating_Income</th>\n",
       "      <th>Tax_Rate</th>\n",
       "      <th>After_Tax_Operating_Income</th>\n",
       "      <th>Reinvestment</th>\n",
       "      <th>FCFF</th>\n",
       "      <th>Cost_of_Capital</th>\n",
       "      <th>Cumulated_Discount_Factor</th>\n",
       "      <th>PV_of_FCFF</th>\n",
       "    </tr>\n",
       "  </thead>\n",
       "  <tbody>\n",
       "    <tr>\n",
       "      <th>Base Year</th>\n",
       "      <td>NaN</td>\n",
       "      <td>5.894900e+04</td>\n",
       "      <td>0.386453</td>\n",
       "      <td>22781.000000</td>\n",
       "      <td>0.25</td>\n",
       "      <td>17085.750000</td>\n",
       "      <td>NaN</td>\n",
       "      <td>NaN</td>\n",
       "      <td>0.118314</td>\n",
       "      <td>NaN</td>\n",
       "      <td>NaN</td>\n",
       "    </tr>\n",
       "    <tr>\n",
       "      <th>Year 1</th>\n",
       "      <td>0.240779</td>\n",
       "      <td>8.733633e+04</td>\n",
       "      <td>0.394786</td>\n",
       "      <td>34479.152101</td>\n",
       "      <td>0.25</td>\n",
       "      <td>25859.364076</td>\n",
       "      <td>16698.426676</td>\n",
       "      <td>9160.937400</td>\n",
       "      <td>0.118314</td>\n",
       "      <td>0.894203</td>\n",
       "      <td>8191.736278</td>\n",
       "    </tr>\n",
       "    <tr>\n",
       "      <th>Year 2</th>\n",
       "      <td>0.240779</td>\n",
       "      <td>1.293938e+05</td>\n",
       "      <td>0.403119</td>\n",
       "      <td>52161.109959</td>\n",
       "      <td>0.25</td>\n",
       "      <td>39120.832469</td>\n",
       "      <td>24739.677094</td>\n",
       "      <td>14381.155375</td>\n",
       "      <td>0.118314</td>\n",
       "      <td>0.799599</td>\n",
       "      <td>11499.153523</td>\n",
       "    </tr>\n",
       "    <tr>\n",
       "      <th>Year 3</th>\n",
       "      <td>0.240779</td>\n",
       "      <td>1.917043e+05</td>\n",
       "      <td>0.411452</td>\n",
       "      <td>78877.192864</td>\n",
       "      <td>0.25</td>\n",
       "      <td>59157.894648</td>\n",
       "      <td>36653.250907</td>\n",
       "      <td>22504.643741</td>\n",
       "      <td>0.118314</td>\n",
       "      <td>0.715003</td>\n",
       "      <td>16090.898036</td>\n",
       "    </tr>\n",
       "    <tr>\n",
       "      <th>Year 4</th>\n",
       "      <td>0.240779</td>\n",
       "      <td>2.840209e+05</td>\n",
       "      <td>0.419786</td>\n",
       "      <td>119227.897979</td>\n",
       "      <td>0.25</td>\n",
       "      <td>89420.923484</td>\n",
       "      <td>54303.893981</td>\n",
       "      <td>35117.029503</td>\n",
       "      <td>0.118314</td>\n",
       "      <td>0.639358</td>\n",
       "      <td>22452.358081</td>\n",
       "    </tr>\n",
       "    <tr>\n",
       "      <th>Year 5</th>\n",
       "      <td>0.240779</td>\n",
       "      <td>4.207933e+05</td>\n",
       "      <td>0.428119</td>\n",
       "      <td>180149.538077</td>\n",
       "      <td>0.25</td>\n",
       "      <td>135112.153558</td>\n",
       "      <td>80454.334297</td>\n",
       "      <td>54657.819260</td>\n",
       "      <td>0.118314</td>\n",
       "      <td>0.571716</td>\n",
       "      <td>31248.741724</td>\n",
       "    </tr>\n",
       "    <tr>\n",
       "      <th>Year 6</th>\n",
       "      <td>0.389246</td>\n",
       "      <td>5.845854e+05</td>\n",
       "      <td>0.428119</td>\n",
       "      <td>250272.006305</td>\n",
       "      <td>0.25</td>\n",
       "      <td>187704.004729</td>\n",
       "      <td>136493.384402</td>\n",
       "      <td>51210.620327</td>\n",
       "      <td>0.114652</td>\n",
       "      <td>0.512910</td>\n",
       "      <td>26266.434823</td>\n",
       "    </tr>\n",
       "    <tr>\n",
       "      <th>Year 7</th>\n",
       "      <td>0.296934</td>\n",
       "      <td>7.581689e+05</td>\n",
       "      <td>0.428119</td>\n",
       "      <td>324586.379701</td>\n",
       "      <td>0.25</td>\n",
       "      <td>243439.784776</td>\n",
       "      <td>144652.927809</td>\n",
       "      <td>98786.856967</td>\n",
       "      <td>0.111721</td>\n",
       "      <td>0.461366</td>\n",
       "      <td>45576.853973</td>\n",
       "    </tr>\n",
       "    <tr>\n",
       "      <th>Year 8</th>\n",
       "      <td>0.204623</td>\n",
       "      <td>9.133076e+05</td>\n",
       "      <td>0.428119</td>\n",
       "      <td>391004.201475</td>\n",
       "      <td>0.25</td>\n",
       "      <td>293253.151106</td>\n",
       "      <td>129282.290079</td>\n",
       "      <td>163970.861027</td>\n",
       "      <td>0.109377</td>\n",
       "      <td>0.415878</td>\n",
       "      <td>68191.883718</td>\n",
       "    </tr>\n",
       "    <tr>\n",
       "      <th>Year 9</th>\n",
       "      <td>0.112311</td>\n",
       "      <td>1.015883e+06</td>\n",
       "      <td>0.428119</td>\n",
       "      <td>434918.459610</td>\n",
       "      <td>0.25</td>\n",
       "      <td>326188.844708</td>\n",
       "      <td>85479.103457</td>\n",
       "      <td>240709.741251</td>\n",
       "      <td>0.107502</td>\n",
       "      <td>0.375510</td>\n",
       "      <td>90388.942961</td>\n",
       "    </tr>\n",
       "    <tr>\n",
       "      <th>Year 10</th>\n",
       "      <td>0.020000</td>\n",
       "      <td>1.036200e+06</td>\n",
       "      <td>0.428119</td>\n",
       "      <td>443616.828803</td>\n",
       "      <td>0.25</td>\n",
       "      <td>332712.621602</td>\n",
       "      <td>16931.375632</td>\n",
       "      <td>315781.245970</td>\n",
       "      <td>0.106001</td>\n",
       "      <td>0.339521</td>\n",
       "      <td>107214.207788</td>\n",
       "    </tr>\n",
       "    <tr>\n",
       "      <th>Terminal Year</th>\n",
       "      <td>0.020000</td>\n",
       "      <td>1.056924e+06</td>\n",
       "      <td>0.428119</td>\n",
       "      <td>452489.165379</td>\n",
       "      <td>0.25</td>\n",
       "      <td>339366.874034</td>\n",
       "      <td>17270.003145</td>\n",
       "      <td>322096.870889</td>\n",
       "      <td>0.100000</td>\n",
       "      <td>NaN</td>\n",
       "      <td>NaN</td>\n",
       "    </tr>\n",
       "  </tbody>\n",
       "</table>\n",
       "</div>"
      ],
      "text/plain": [
       "               Revenue_Growth_Rates       Revenue  Operating_Margin  \\\n",
       "Base Year                       NaN  5.894900e+04          0.386453   \n",
       "Year 1                     0.240779  8.733633e+04          0.394786   \n",
       "Year 2                     0.240779  1.293938e+05          0.403119   \n",
       "Year 3                     0.240779  1.917043e+05          0.411452   \n",
       "Year 4                     0.240779  2.840209e+05          0.419786   \n",
       "Year 5                     0.240779  4.207933e+05          0.428119   \n",
       "Year 6                     0.389246  5.845854e+05          0.428119   \n",
       "Year 7                     0.296934  7.581689e+05          0.428119   \n",
       "Year 8                     0.204623  9.133076e+05          0.428119   \n",
       "Year 9                     0.112311  1.015883e+06          0.428119   \n",
       "Year 10                    0.020000  1.036200e+06          0.428119   \n",
       "Terminal Year              0.020000  1.056924e+06          0.428119   \n",
       "\n",
       "               Operating_Income  Tax_Rate  After_Tax_Operating_Income  \\\n",
       "Base Year          22781.000000      0.25                17085.750000   \n",
       "Year 1             34479.152101      0.25                25859.364076   \n",
       "Year 2             52161.109959      0.25                39120.832469   \n",
       "Year 3             78877.192864      0.25                59157.894648   \n",
       "Year 4            119227.897979      0.25                89420.923484   \n",
       "Year 5            180149.538077      0.25               135112.153558   \n",
       "Year 6            250272.006305      0.25               187704.004729   \n",
       "Year 7            324586.379701      0.25               243439.784776   \n",
       "Year 8            391004.201475      0.25               293253.151106   \n",
       "Year 9            434918.459610      0.25               326188.844708   \n",
       "Year 10           443616.828803      0.25               332712.621602   \n",
       "Terminal Year     452489.165379      0.25               339366.874034   \n",
       "\n",
       "                Reinvestment           FCFF  Cost_of_Capital  \\\n",
       "Base Year                NaN            NaN         0.118314   \n",
       "Year 1          16698.426676    9160.937400         0.118314   \n",
       "Year 2          24739.677094   14381.155375         0.118314   \n",
       "Year 3          36653.250907   22504.643741         0.118314   \n",
       "Year 4          54303.893981   35117.029503         0.118314   \n",
       "Year 5          80454.334297   54657.819260         0.118314   \n",
       "Year 6         136493.384402   51210.620327         0.114652   \n",
       "Year 7         144652.927809   98786.856967         0.111721   \n",
       "Year 8         129282.290079  163970.861027         0.109377   \n",
       "Year 9          85479.103457  240709.741251         0.107502   \n",
       "Year 10         16931.375632  315781.245970         0.106001   \n",
       "Terminal Year   17270.003145  322096.870889         0.100000   \n",
       "\n",
       "               Cumulated_Discount_Factor     PV_of_FCFF  \n",
       "Base Year                            NaN            NaN  \n",
       "Year 1                          0.894203    8191.736278  \n",
       "Year 2                          0.799599   11499.153523  \n",
       "Year 3                          0.715003   16090.898036  \n",
       "Year 4                          0.639358   22452.358081  \n",
       "Year 5                          0.571716   31248.741724  \n",
       "Year 6                          0.512910   26266.434823  \n",
       "Year 7                          0.461366   45576.853973  \n",
       "Year 8                          0.415878   68191.883718  \n",
       "Year 9                          0.375510   90388.942961  \n",
       "Year 10                         0.339521  107214.207788  \n",
       "Terminal Year                        NaN            NaN  "
      ]
     },
     "execution_count": 173,
     "metadata": {},
     "output_type": "execute_result"
    }
   ],
   "source": [
    "data_FCFE={'Revenue_Growth_Rates':Revenue_Growth_Rates,'Revenue': Revenue,'Operating_Margin': Operating_Margin,'Operating_Income': Operating_Income,\n",
    "'Tax_Rate': Tax_Rate,'After_Tax_Operating_Income':After_Tax_Operating_Income,'Reinvestment':Reinvestment,'FCFF':FCFF,\n",
    "'Cost_of_Capital':Cost_of_Capital,'Cumulated_Discount_Factor': Cumulated_Discount_Factor,'PV_of_FCFF':PV_of_FCFF}\n",
    "df_FCFE = pd.DataFrame(data_FCFE,columns=['Revenue_Growth_Rates','Revenue','Operating_Margin','Operating_Income','Tax_Rate','After_Tax_Operating_Income',\n",
    "                 'Reinvestment','FCFF','Cost_of_Capital','Cumulated_Discount_Factor','PV_of_FCFF'])\n",
    "df_FCFE"
   ]
  },
  {
   "cell_type": "code",
   "execution_count": 174,
   "metadata": {},
   "outputs": [
    {
     "data": {
      "text/plain": [
       "Base Year             NaN\n",
       "Year 1           0.240779\n",
       "Year 2           0.240779\n",
       "Year 3           0.240779\n",
       "Year 4           0.240779\n",
       "Year 5           0.240779\n",
       "Year 6           0.196623\n",
       "Year 7           0.152467\n",
       "Year 8           0.108311\n",
       "Year 9           0.064156\n",
       "Year 10          0.020000\n",
       "Terminal Year    0.020000\n",
       "dtype: float64"
      ]
     },
     "execution_count": 174,
     "metadata": {},
     "output_type": "execute_result"
    }
   ],
   "source": [
    "for year in range (6,11):\n",
    "    Revenue_Growth_Rates[year] = Revenue_Growth_Rates[year-1] - (Revenue_Growth_Rates[year-1] - Revenue_Growth_Rates['Terminal Year'])/(12-(year+1))\n",
    "Revenue_Growth_Rates"
   ]
  },
  {
   "cell_type": "code",
   "execution_count": 175,
   "metadata": {},
   "outputs": [
    {
     "data": {
      "text/plain": [
       "Base Year         58949.000000\n",
       "Year 1            73142.662675\n",
       "Year 2            90753.856777\n",
       "Year 3           112605.451028\n",
       "Year 4           139718.443398\n",
       "Year 5           173359.666405\n",
       "Year 6           207446.155013\n",
       "Year 7           239074.891643\n",
       "Year 8           264969.445509\n",
       "Year 9           281968.755543\n",
       "Year 10          287608.130654\n",
       "Terminal Year    293360.293267\n",
       "dtype: float64"
      ]
     },
     "execution_count": 175,
     "metadata": {},
     "output_type": "execute_result"
    }
   ],
   "source": [
    "for year in range(1,12):\n",
    "    Revenue[year] = Revenue[year-1]*(1+ Revenue_Growth_Rates[year])\n",
    "Revenue"
   ]
  },
  {
   "cell_type": "code",
   "execution_count": 176,
   "metadata": {},
   "outputs": [
    {
     "data": {
      "text/plain": [
       "0.3864526963985818"
      ]
     },
     "execution_count": 176,
     "metadata": {},
     "output_type": "execute_result"
    }
   ],
   "source": [
    "Operating_Margin['Base Year'] = Operating_Income['Base Year']/Revenue['Base Year']\n",
    "Operating_Margin['Base Year']"
   ]
  },
  {
   "cell_type": "code",
   "execution_count": 177,
   "metadata": {},
   "outputs": [
    {
     "data": {
      "text/plain": [
       "Base Year        0.386453\n",
       "Year 1           0.394786\n",
       "Year 2           0.403119\n",
       "Year 3           0.411452\n",
       "Year 4           0.419786\n",
       "Year 5           0.428119\n",
       "Year 6           0.428119\n",
       "Year 7           0.428119\n",
       "Year 8           0.428119\n",
       "Year 9           0.428119\n",
       "Year 10          0.428119\n",
       "Terminal Year    0.428119\n",
       "dtype: float64"
      ]
     },
     "execution_count": 177,
     "metadata": {},
     "output_type": "execute_result"
    }
   ],
   "source": [
    "for year in range(1,6):\n",
    "     Operating_Margin[year] = Operating_Margin[year-1] - (Operating_Margin[year - 1]-Operating_Margin['Terminal Year'])/(6-year)\n",
    "for year in range(6,11):\n",
    "    Operating_Margin[year]= Operating_Margin['Terminal Year']\n",
    "Operating_Margin"
   ]
  },
  {
   "cell_type": "code",
   "execution_count": 178,
   "metadata": {},
   "outputs": [
    {
     "data": {
      "text/plain": [
       "Base Year         22781.000000\n",
       "Year 1            28875.693835\n",
       "Year 2            36584.618162\n",
       "Year 3            46331.781507\n",
       "Year 4            58651.792818\n",
       "Year 5            74218.540291\n",
       "Year 6            88811.608451\n",
       "Year 7           102352.466672\n",
       "Year 8           113438.413185\n",
       "Year 9           120716.138177\n",
       "Year 10          123130.460940\n",
       "Terminal Year    125593.070159\n",
       "dtype: float64"
      ]
     },
     "execution_count": 178,
     "metadata": {},
     "output_type": "execute_result"
    }
   ],
   "source": [
    "for year in range(1,12):\n",
    "    Operating_Income[year] = Revenue[year]*Operating_Margin[year]\n",
    "Operating_Income"
   ]
  },
  {
   "cell_type": "code",
   "execution_count": 179,
   "metadata": {
    "scrolled": true
   },
   "outputs": [
    {
     "data": {
      "text/plain": [
       "Base Year        0.25\n",
       "Year 1           0.25\n",
       "Year 2           0.25\n",
       "Year 3           0.25\n",
       "Year 4           0.25\n",
       "Year 5           0.25\n",
       "Year 6           0.25\n",
       "Year 7           0.25\n",
       "Year 8           0.25\n",
       "Year 9           0.25\n",
       "Year 10          0.25\n",
       "Terminal Year    0.25\n",
       "dtype: float64"
      ]
     },
     "execution_count": 179,
     "metadata": {},
     "output_type": "execute_result"
    }
   ],
   "source": [
    "for year in range(0,12):\n",
    "    Tax_Rate[year]=Effective_Tax_Rate\n",
    "Tax_Rate"
   ]
  },
  {
   "cell_type": "code",
   "execution_count": 180,
   "metadata": {},
   "outputs": [
    {
     "data": {
      "text/plain": [
       "Base Year        17085.750000\n",
       "Year 1           21656.770376\n",
       "Year 2           27438.463622\n",
       "Year 3           34748.836130\n",
       "Year 4           43988.844614\n",
       "Year 5           55663.905218\n",
       "Year 6           66608.706339\n",
       "Year 7           76764.350004\n",
       "Year 8           85078.809889\n",
       "Year 9           90537.103633\n",
       "Year 10          92347.845705\n",
       "Terminal Year    94194.802619\n",
       "dtype: float64"
      ]
     },
     "execution_count": 180,
     "metadata": {},
     "output_type": "execute_result"
    }
   ],
   "source": [
    "for year in range(0,12):\n",
    "    After_Tax_Operating_Income[year] = Operating_Income[year]*(1-Tax_Rate[year])\n",
    "After_Tax_Operating_Income"
   ]
  },
  {
   "cell_type": "code",
   "execution_count": 181,
   "metadata": {},
   "outputs": [
    {
     "data": {
      "text/plain": [
       "Base Year                 NaN\n",
       "Year 1            8349.213338\n",
       "Year 2           10359.525942\n",
       "Year 3           12853.878971\n",
       "Year 4           15948.819041\n",
       "Year 5           19788.954710\n",
       "Year 6           28405.407174\n",
       "Year 7           26357.280525\n",
       "Year 8           21578.794888\n",
       "Year 9           14166.091695\n",
       "Year 10           4699.479259\n",
       "Terminal Year     4793.468844\n",
       "dtype: float64"
      ]
     },
     "execution_count": 181,
     "metadata": {},
     "output_type": "execute_result"
    }
   ],
   "source": [
    "for year in range(1,6):\n",
    "    Reinvestment[year] = (Revenue[year]-Revenue[year-1])/Sales_to_Capital_Ratio_year1_5\n",
    "for year in range(6,12):\n",
    "    Reinvestment[year] = (Revenue[year]-Revenue[year-1])/Sales_to_Capital_Ratio_year6_10\n",
    "Reinvestment"
   ]
  },
  {
   "cell_type": "code",
   "execution_count": 182,
   "metadata": {},
   "outputs": [
    {
     "data": {
      "text/plain": [
       "Base Year                 NaN\n",
       "Year 1           13307.557038\n",
       "Year 2           17078.937679\n",
       "Year 3           21894.957159\n",
       "Year 4           28040.025572\n",
       "Year 5           35874.950508\n",
       "Year 6           38203.299165\n",
       "Year 7           50407.069479\n",
       "Year 8           63500.015001\n",
       "Year 9           76371.011937\n",
       "Year 10          87648.366446\n",
       "Terminal Year    89401.333775\n",
       "dtype: float64"
      ]
     },
     "execution_count": 182,
     "metadata": {},
     "output_type": "execute_result"
    }
   ],
   "source": [
    "for year in range(1,12):\n",
    "    FCFF[year] = After_Tax_Operating_Income[year]- Reinvestment[year]\n",
    "FCFF"
   ]
  },
  {
   "cell_type": "code",
   "execution_count": 183,
   "metadata": {},
   "outputs": [
    {
     "data": {
      "text/plain": [
       "Base Year        0.118314\n",
       "Year 1           0.118314\n",
       "Year 2           0.118314\n",
       "Year 3           0.118314\n",
       "Year 4           0.118314\n",
       "Year 5           0.118314\n",
       "Year 6           0.114652\n",
       "Year 7           0.111721\n",
       "Year 8           0.109377\n",
       "Year 9           0.107502\n",
       "Year 10          0.106001\n",
       "Terminal Year    0.100000\n",
       "dtype: float64"
      ]
     },
     "execution_count": 183,
     "metadata": {},
     "output_type": "execute_result"
    }
   ],
   "source": [
    "Cost_of_Capital['Terminal Year'] = Market_Return\n",
    "for year in range(1,6):\n",
    "    Cost_of_Capital[year]=Cost_of_Capital['Base Year']\n",
    "for year in range(6,11):\n",
    "    Cost_of_Capital[year]=Cost_of_Capital[year-1]-(Cost_of_Capital[year-1]-Cost_of_Capital['Terminal Year'])/5\n",
    "Cost_of_Capital"
   ]
  },
  {
   "cell_type": "code",
   "execution_count": 184,
   "metadata": {},
   "outputs": [
    {
     "data": {
      "text/plain": [
       "Base Year             NaN\n",
       "Year 1           0.894203\n",
       "Year 2           0.799599\n",
       "Year 3           0.715003\n",
       "Year 4           0.639358\n",
       "Year 5           0.571716\n",
       "Year 6           0.512910\n",
       "Year 7           0.461366\n",
       "Year 8           0.415878\n",
       "Year 9           0.375510\n",
       "Year 10          0.339521\n",
       "Terminal Year         NaN\n",
       "dtype: float64"
      ]
     },
     "execution_count": 184,
     "metadata": {},
     "output_type": "execute_result"
    }
   ],
   "source": [
    "Cumulated_Discount_Factor[1] = 1/(1+Cost_of_Capital[1])\n",
    "for year in range(2,11):\n",
    "    Cumulated_Discount_Factor[year] = Cumulated_Discount_Factor[year-1]*(1/(1+Cost_of_Capital[year]))\n",
    "Cumulated_Discount_Factor"
   ]
  },
  {
   "cell_type": "code",
   "execution_count": 185,
   "metadata": {},
   "outputs": [
    {
     "data": {
      "text/plain": [
       "Base Year             NaN\n",
       "Year 1           0.894203\n",
       "Year 2           0.799599\n",
       "Year 3           0.715003\n",
       "Year 4           0.639358\n",
       "Year 5           0.571716\n",
       "Year 6           0.512910\n",
       "Year 7           0.461366\n",
       "Year 8           0.415878\n",
       "Year 9           0.375510\n",
       "Year 10          0.339521\n",
       "Terminal Year         NaN\n",
       "dtype: float64"
      ]
     },
     "execution_count": 185,
     "metadata": {},
     "output_type": "execute_result"
    }
   ],
   "source": [
    "Cumulated_Discount_Factor[1] = 1/(1+Cost_of_Capital[1])\n",
    "for year in range(2,11):\n",
    "    Cumulated_Discount_Factor[year] = Cumulated_Discount_Factor[year-1]*(1/(1+Cost_of_Capital[year]))\n",
    "Cumulated_Discount_Factor"
   ]
  },
  {
   "cell_type": "code",
   "execution_count": 186,
   "metadata": {},
   "outputs": [
    {
     "data": {
      "text/plain": [
       "Base Year                 NaN\n",
       "Year 1           11899.655352\n",
       "Year 2           13656.296818\n",
       "Year 3           15654.970024\n",
       "Year 4           17927.618128\n",
       "Year 5           20510.277907\n",
       "Year 6           19594.850855\n",
       "Year 7           23256.086036\n",
       "Year 8           26408.263102\n",
       "Year 9           28678.087584\n",
       "Year 10          29758.417551\n",
       "Terminal Year             NaN\n",
       "dtype: float64"
      ]
     },
     "execution_count": 186,
     "metadata": {},
     "output_type": "execute_result"
    }
   ],
   "source": [
    "for year in range(1,11):\n",
    "    PV_of_FCFF[year] = FCFF[year]*Cumulated_Discount_Factor[year]\n",
    "PV_of_FCFF"
   ]
  },
  {
   "cell_type": "code",
   "execution_count": 187,
   "metadata": {},
   "outputs": [
    {
     "data": {
      "text/plain": [
       "89401.33377519772"
      ]
     },
     "execution_count": 187,
     "metadata": {},
     "output_type": "execute_result"
    }
   ],
   "source": [
    "FCFF['Terminal Year']"
   ]
  },
  {
   "cell_type": "code",
   "execution_count": 198,
   "metadata": {},
   "outputs": [
    {
     "data": {
      "text/plain": [
       "894013.3377519771"
      ]
     },
     "execution_count": 198,
     "metadata": {},
     "output_type": "execute_result"
    }
   ],
   "source": [
    "Terminal_Value = FCFF['Terminal Year']/ Cost_of_Capital['Terminal Year']\n",
    "Terminal_Value"
   ]
  },
  {
   "cell_type": "code",
   "execution_count": 201,
   "metadata": {},
   "outputs": [
    {
     "data": {
      "text/plain": [
       "303535.8590233331"
      ]
     },
     "execution_count": 201,
     "metadata": {},
     "output_type": "execute_result"
    }
   ],
   "source": [
    "PV_Terminal_Value = Terminal_Value*Cumulated_Discount_Factor['Year 10']\n",
    "PV_Terminal_Value"
   ]
  },
  {
   "cell_type": "code",
   "execution_count": 202,
   "metadata": {},
   "outputs": [
    {
     "data": {
      "text/plain": [
       "207344.523356124"
      ]
     },
     "execution_count": 202,
     "metadata": {},
     "output_type": "execute_result"
    }
   ],
   "source": [
    "FCFF_Over_10Year = sum(PV_of_FCFF[1:11])\n",
    "FCFF_Over_10Year"
   ]
  },
  {
   "cell_type": "code",
   "execution_count": 203,
   "metadata": {},
   "outputs": [
    {
     "data": {
      "text/plain": [
       "510880.3823794571"
      ]
     },
     "execution_count": 203,
     "metadata": {},
     "output_type": "execute_result"
    }
   ],
   "source": [
    "Sum_of_PV = FCFF_Over_10Year + PV_Terminal_Value\n",
    "Sum_of_PV"
   ]
  },
  {
   "cell_type": "code",
   "execution_count": 204,
   "metadata": {},
   "outputs": [
    {
     "data": {
      "text/plain": [
       "255440.19118972856"
      ]
     },
     "execution_count": 204,
     "metadata": {},
     "output_type": "execute_result"
    }
   ],
   "source": [
    "Proceed_if_firm_fails = Sum_of_PV*Distress_Proceed_as_percentage_of_book_fair_value\n",
    "Proceed_if_firm_fails"
   ]
  },
  {
   "cell_type": "code",
   "execution_count": 205,
   "metadata": {},
   "outputs": [
    {
     "data": {
      "text/plain": [
       "485336.3632604843"
      ]
     },
     "execution_count": 205,
     "metadata": {},
     "output_type": "execute_result"
    }
   ],
   "source": [
    "Value_Operating_Assets = Sum_of_PV*(1- Probability_Failure) + Proceed_if_firm_fails*Probability_Failure\n",
    "Value_Operating_Assets"
   ]
  },
  {
   "cell_type": "code",
   "execution_count": 206,
   "metadata": {},
   "outputs": [
    {
     "data": {
      "text/plain": [
       "530579.3632604843"
      ]
     },
     "execution_count": 206,
     "metadata": {},
     "output_type": "execute_result"
    }
   ],
   "source": [
    "Value_of_Equity = Value_Operating_Assets + Cash_and_Marketable_Securities - Book_Value_of_Debt\n",
    "Value_of_Equity"
   ]
  },
  {
   "cell_type": "code",
   "execution_count": 207,
   "metadata": {},
   "outputs": [
    {
     "data": {
      "text/plain": [
       "182.8323098761145"
      ]
     },
     "execution_count": 207,
     "metadata": {},
     "output_type": "execute_result"
    }
   ],
   "source": [
    "Estimated_Value_per_Share = Value_of_Equity/ Number_of_Shares_Outstanding\n",
    "Estimated_Value_per_Share"
   ]
  },
  {
   "cell_type": "code",
   "execution_count": 208,
   "metadata": {},
   "outputs": [
    {
     "data": {
      "text/html": [
       "<div>\n",
       "<style scoped>\n",
       "    .dataframe tbody tr th:only-of-type {\n",
       "        vertical-align: middle;\n",
       "    }\n",
       "\n",
       "    .dataframe tbody tr th {\n",
       "        vertical-align: top;\n",
       "    }\n",
       "\n",
       "    .dataframe thead th {\n",
       "        text-align: right;\n",
       "    }\n",
       "</style>\n",
       "<table border=\"1\" class=\"dataframe\">\n",
       "  <thead>\n",
       "    <tr style=\"text-align: right;\">\n",
       "      <th></th>\n",
       "      <th>Revenue_Growth_Rates</th>\n",
       "      <th>Revenue</th>\n",
       "      <th>Operating_Margin</th>\n",
       "      <th>Operating_Income</th>\n",
       "      <th>Tax_Rate</th>\n",
       "      <th>After_Tax_Operating_Income</th>\n",
       "      <th>Reinvestment</th>\n",
       "      <th>FCFF</th>\n",
       "      <th>Cost_of_Capital</th>\n",
       "      <th>Cumulated_Discount_Factor</th>\n",
       "      <th>PV_of_FCFF</th>\n",
       "    </tr>\n",
       "  </thead>\n",
       "  <tbody>\n",
       "    <tr>\n",
       "      <th>Base Year</th>\n",
       "      <td>NaN</td>\n",
       "      <td>58949.000000</td>\n",
       "      <td>0.386453</td>\n",
       "      <td>22781.000000</td>\n",
       "      <td>0.25</td>\n",
       "      <td>17085.750000</td>\n",
       "      <td>NaN</td>\n",
       "      <td>NaN</td>\n",
       "      <td>0.118314</td>\n",
       "      <td>NaN</td>\n",
       "      <td>NaN</td>\n",
       "    </tr>\n",
       "    <tr>\n",
       "      <th>Year 1</th>\n",
       "      <td>0.240779</td>\n",
       "      <td>73142.662675</td>\n",
       "      <td>0.394786</td>\n",
       "      <td>28875.693835</td>\n",
       "      <td>0.25</td>\n",
       "      <td>21656.770376</td>\n",
       "      <td>8349.213338</td>\n",
       "      <td>13307.557038</td>\n",
       "      <td>0.118314</td>\n",
       "      <td>0.894203</td>\n",
       "      <td>11899.655352</td>\n",
       "    </tr>\n",
       "    <tr>\n",
       "      <th>Year 2</th>\n",
       "      <td>0.240779</td>\n",
       "      <td>90753.856777</td>\n",
       "      <td>0.403119</td>\n",
       "      <td>36584.618162</td>\n",
       "      <td>0.25</td>\n",
       "      <td>27438.463622</td>\n",
       "      <td>10359.525942</td>\n",
       "      <td>17078.937679</td>\n",
       "      <td>0.118314</td>\n",
       "      <td>0.799599</td>\n",
       "      <td>13656.296818</td>\n",
       "    </tr>\n",
       "    <tr>\n",
       "      <th>Year 3</th>\n",
       "      <td>0.240779</td>\n",
       "      <td>112605.451028</td>\n",
       "      <td>0.411452</td>\n",
       "      <td>46331.781507</td>\n",
       "      <td>0.25</td>\n",
       "      <td>34748.836130</td>\n",
       "      <td>12853.878971</td>\n",
       "      <td>21894.957159</td>\n",
       "      <td>0.118314</td>\n",
       "      <td>0.715003</td>\n",
       "      <td>15654.970024</td>\n",
       "    </tr>\n",
       "    <tr>\n",
       "      <th>Year 4</th>\n",
       "      <td>0.240779</td>\n",
       "      <td>139718.443398</td>\n",
       "      <td>0.419786</td>\n",
       "      <td>58651.792818</td>\n",
       "      <td>0.25</td>\n",
       "      <td>43988.844614</td>\n",
       "      <td>15948.819041</td>\n",
       "      <td>28040.025572</td>\n",
       "      <td>0.118314</td>\n",
       "      <td>0.639358</td>\n",
       "      <td>17927.618128</td>\n",
       "    </tr>\n",
       "    <tr>\n",
       "      <th>Year 5</th>\n",
       "      <td>0.240779</td>\n",
       "      <td>173359.666405</td>\n",
       "      <td>0.428119</td>\n",
       "      <td>74218.540291</td>\n",
       "      <td>0.25</td>\n",
       "      <td>55663.905218</td>\n",
       "      <td>19788.954710</td>\n",
       "      <td>35874.950508</td>\n",
       "      <td>0.118314</td>\n",
       "      <td>0.571716</td>\n",
       "      <td>20510.277907</td>\n",
       "    </tr>\n",
       "    <tr>\n",
       "      <th>Year 6</th>\n",
       "      <td>0.196623</td>\n",
       "      <td>207446.155013</td>\n",
       "      <td>0.428119</td>\n",
       "      <td>88811.608451</td>\n",
       "      <td>0.25</td>\n",
       "      <td>66608.706339</td>\n",
       "      <td>28405.407174</td>\n",
       "      <td>38203.299165</td>\n",
       "      <td>0.114652</td>\n",
       "      <td>0.512910</td>\n",
       "      <td>19594.850855</td>\n",
       "    </tr>\n",
       "    <tr>\n",
       "      <th>Year 7</th>\n",
       "      <td>0.152467</td>\n",
       "      <td>239074.891643</td>\n",
       "      <td>0.428119</td>\n",
       "      <td>102352.466672</td>\n",
       "      <td>0.25</td>\n",
       "      <td>76764.350004</td>\n",
       "      <td>26357.280525</td>\n",
       "      <td>50407.069479</td>\n",
       "      <td>0.111721</td>\n",
       "      <td>0.461366</td>\n",
       "      <td>23256.086036</td>\n",
       "    </tr>\n",
       "    <tr>\n",
       "      <th>Year 8</th>\n",
       "      <td>0.108311</td>\n",
       "      <td>264969.445509</td>\n",
       "      <td>0.428119</td>\n",
       "      <td>113438.413185</td>\n",
       "      <td>0.25</td>\n",
       "      <td>85078.809889</td>\n",
       "      <td>21578.794888</td>\n",
       "      <td>63500.015001</td>\n",
       "      <td>0.109377</td>\n",
       "      <td>0.415878</td>\n",
       "      <td>26408.263102</td>\n",
       "    </tr>\n",
       "    <tr>\n",
       "      <th>Year 9</th>\n",
       "      <td>0.064156</td>\n",
       "      <td>281968.755543</td>\n",
       "      <td>0.428119</td>\n",
       "      <td>120716.138177</td>\n",
       "      <td>0.25</td>\n",
       "      <td>90537.103633</td>\n",
       "      <td>14166.091695</td>\n",
       "      <td>76371.011937</td>\n",
       "      <td>0.107502</td>\n",
       "      <td>0.375510</td>\n",
       "      <td>28678.087584</td>\n",
       "    </tr>\n",
       "    <tr>\n",
       "      <th>Year 10</th>\n",
       "      <td>0.020000</td>\n",
       "      <td>287608.130654</td>\n",
       "      <td>0.428119</td>\n",
       "      <td>123130.460940</td>\n",
       "      <td>0.25</td>\n",
       "      <td>92347.845705</td>\n",
       "      <td>4699.479259</td>\n",
       "      <td>87648.366446</td>\n",
       "      <td>0.106001</td>\n",
       "      <td>0.339521</td>\n",
       "      <td>29758.417551</td>\n",
       "    </tr>\n",
       "    <tr>\n",
       "      <th>Terminal Year</th>\n",
       "      <td>0.020000</td>\n",
       "      <td>293360.293267</td>\n",
       "      <td>0.428119</td>\n",
       "      <td>125593.070159</td>\n",
       "      <td>0.25</td>\n",
       "      <td>94194.802619</td>\n",
       "      <td>4793.468844</td>\n",
       "      <td>89401.333775</td>\n",
       "      <td>0.100000</td>\n",
       "      <td>NaN</td>\n",
       "      <td>NaN</td>\n",
       "    </tr>\n",
       "  </tbody>\n",
       "</table>\n",
       "</div>"
      ],
      "text/plain": [
       "               Revenue_Growth_Rates        Revenue  Operating_Margin  \\\n",
       "Base Year                       NaN   58949.000000          0.386453   \n",
       "Year 1                     0.240779   73142.662675          0.394786   \n",
       "Year 2                     0.240779   90753.856777          0.403119   \n",
       "Year 3                     0.240779  112605.451028          0.411452   \n",
       "Year 4                     0.240779  139718.443398          0.419786   \n",
       "Year 5                     0.240779  173359.666405          0.428119   \n",
       "Year 6                     0.196623  207446.155013          0.428119   \n",
       "Year 7                     0.152467  239074.891643          0.428119   \n",
       "Year 8                     0.108311  264969.445509          0.428119   \n",
       "Year 9                     0.064156  281968.755543          0.428119   \n",
       "Year 10                    0.020000  287608.130654          0.428119   \n",
       "Terminal Year              0.020000  293360.293267          0.428119   \n",
       "\n",
       "               Operating_Income  Tax_Rate  After_Tax_Operating_Income  \\\n",
       "Base Year          22781.000000      0.25                17085.750000   \n",
       "Year 1             28875.693835      0.25                21656.770376   \n",
       "Year 2             36584.618162      0.25                27438.463622   \n",
       "Year 3             46331.781507      0.25                34748.836130   \n",
       "Year 4             58651.792818      0.25                43988.844614   \n",
       "Year 5             74218.540291      0.25                55663.905218   \n",
       "Year 6             88811.608451      0.25                66608.706339   \n",
       "Year 7            102352.466672      0.25                76764.350004   \n",
       "Year 8            113438.413185      0.25                85078.809889   \n",
       "Year 9            120716.138177      0.25                90537.103633   \n",
       "Year 10           123130.460940      0.25                92347.845705   \n",
       "Terminal Year     125593.070159      0.25                94194.802619   \n",
       "\n",
       "               Reinvestment          FCFF  Cost_of_Capital  \\\n",
       "Base Year               NaN           NaN         0.118314   \n",
       "Year 1          8349.213338  13307.557038         0.118314   \n",
       "Year 2         10359.525942  17078.937679         0.118314   \n",
       "Year 3         12853.878971  21894.957159         0.118314   \n",
       "Year 4         15948.819041  28040.025572         0.118314   \n",
       "Year 5         19788.954710  35874.950508         0.118314   \n",
       "Year 6         28405.407174  38203.299165         0.114652   \n",
       "Year 7         26357.280525  50407.069479         0.111721   \n",
       "Year 8         21578.794888  63500.015001         0.109377   \n",
       "Year 9         14166.091695  76371.011937         0.107502   \n",
       "Year 10         4699.479259  87648.366446         0.106001   \n",
       "Terminal Year   4793.468844  89401.333775         0.100000   \n",
       "\n",
       "               Cumulated_Discount_Factor    PV_of_FCFF  \n",
       "Base Year                            NaN           NaN  \n",
       "Year 1                          0.894203  11899.655352  \n",
       "Year 2                          0.799599  13656.296818  \n",
       "Year 3                          0.715003  15654.970024  \n",
       "Year 4                          0.639358  17927.618128  \n",
       "Year 5                          0.571716  20510.277907  \n",
       "Year 6                          0.512910  19594.850855  \n",
       "Year 7                          0.461366  23256.086036  \n",
       "Year 8                          0.415878  26408.263102  \n",
       "Year 9                          0.375510  28678.087584  \n",
       "Year 10                         0.339521  29758.417551  \n",
       "Terminal Year                        NaN           NaN  "
      ]
     },
     "execution_count": 208,
     "metadata": {},
     "output_type": "execute_result"
    }
   ],
   "source": [
    "data_FCFE={'Revenue_Growth_Rates':Revenue_Growth_Rates,'Revenue': Revenue,'Operating_Margin': Operating_Margin,'Operating_Income': Operating_Income,\n",
    "'Tax_Rate': Tax_Rate,'After_Tax_Operating_Income':After_Tax_Operating_Income,'Reinvestment':Reinvestment,'FCFF':FCFF,\n",
    "'Cost_of_Capital':Cost_of_Capital,'Cumulated_Discount_Factor': Cumulated_Discount_Factor,'PV_of_FCFF':PV_of_FCFF}\n",
    "df_FCFE = pd.DataFrame(data_FCFE,columns=['Revenue_Growth_Rates','Revenue','Operating_Margin','Operating_Income','Tax_Rate','After_Tax_Operating_Income',\n",
    "                 'Reinvestment','FCFF','Cost_of_Capital','Cumulated_Discount_Factor','PV_of_FCFF'])\n",
    "df_FCFE"
   ]
  }
 ],
 "metadata": {
  "kernelspec": {
   "display_name": "Python 3",
   "language": "python",
   "name": "python3"
  },
  "language_info": {
   "codemirror_mode": {
    "name": "ipython",
    "version": 3
   },
   "file_extension": ".py",
   "mimetype": "text/x-python",
   "name": "python",
   "nbconvert_exporter": "python",
   "pygments_lexer": "ipython3",
   "version": "3.7.1"
  }
 },
 "nbformat": 4,
 "nbformat_minor": 2
}
